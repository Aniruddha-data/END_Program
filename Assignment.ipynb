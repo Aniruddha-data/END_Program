{
  "nbformat": 4,
  "nbformat_minor": 0,
  "metadata": {
    "colab": {
      "name": "Assignment.ipynb",
      "provenance": [],
      "collapsed_sections": [],
      "authorship_tag": "ABX9TyOSb4IBSvx8JaLZdghQQQG/",
      "include_colab_link": true
    },
    "kernelspec": {
      "name": "python3",
      "display_name": "Python 3"
    }
  },
  "cells": [
    {
      "cell_type": "markdown",
      "metadata": {
        "id": "view-in-github",
        "colab_type": "text"
      },
      "source": [
        "<a href=\"https://colab.research.google.com/github/Aniruddha-data/END_Program/blob/main/Assignment.ipynb\" target=\"_parent\"><img src=\"https://colab.research.google.com/assets/colab-badge.svg\" alt=\"Open In Colab\"/></a>"
      ]
    },
    {
      "cell_type": "code",
      "metadata": {
        "id": "9bMm_NuvqxMR"
      },
      "source": [
        "import pandas as pd \n",
        "import random\n",
        "import numpy as np"
      ],
      "execution_count": 2,
      "outputs": []
    },
    {
      "cell_type": "code",
      "metadata": {
        "id": "CeTcGSygt6FB",
        "outputId": "edd6182d-dbe0-40f0-f7c5-5e4115d4bf52",
        "colab": {
          "base_uri": "https://localhost:8080/"
        }
      },
      "source": [
        "#Question 1\n",
        "#Write a function using only list filter lambda that can tell whether a number is a Fibonacci number or not. \n",
        "\n",
        "def fibonacci(a = list(range(2))):\n",
        "    fibonocci = [1,1]\n",
        "    while (sum(fibonocci[(len(fibonocci)-2):]))<10001:\n",
        "        fibonocci = fibonocci+[sum(fibonocci[(len(fibonocci)-2):])]\n",
        "    \n",
        "    if type(a)==list:\n",
        "        return list(filter(lambda x:x in fibonocci,a))\n",
        "    elif (type(a) == int)|(type(a) == float):\n",
        "        if a<10000:\n",
        "            return a in fibonocci\n",
        "        else:\n",
        "            return 'it can not greater than 10000' \n",
        "       "
      ],
      "execution_count": 87,
      "outputs": [
        {
          "output_type": "execute_result",
          "data": {
            "text/plain": [
              "[1]"
            ]
          },
          "metadata": {
            "tags": []
          },
          "execution_count": 87
        }
      ]
    },
    {
      "cell_type": "code",
      "metadata": {
        "id": "c_J_aAOpxxPT"
      },
      "source": [
        "#Question 2 Part 1\n",
        "#Using list comprehension (and zip/lambda/etc if required) write  expressions that  add 2 iterables a and b such that a is even and b is odd\n",
        "\n",
        "def add(a,b):\n",
        "    '''\n",
        "    a list have even number \n",
        "    b list have odd number\n",
        "    '''\n",
        "    result = [x+y for x,y in zip(a,b) if (x%2==0)&(y%2==1)]\n",
        "    return result\n"
      ],
      "execution_count": 14,
      "outputs": []
    },
    {
      "cell_type": "code",
      "metadata": {
        "id": "wZeUPwfbxxMI"
      },
      "source": [
        "#Question 2 Part 2 \n",
        "#strips every vowel from a string provided (tsai>>t s)\n",
        "\n",
        "def strips(string):\n",
        "    output = [i for i in string if i not in 'aeiouAEIOU']\n",
        "    return ''.join(output)\n"
      ],
      "execution_count": 18,
      "outputs": []
    },
    {
      "cell_type": "code",
      "metadata": {
        "id": "PbWE0HwLxxHf"
      },
      "source": [
        "#Question 2 Part 3\n",
        "#Acts like a ReLU function for a 1D array\n",
        "\n",
        "def relu(input_list):\n",
        "    result = [x if x>0 else 0 for x in input_list]\n",
        "    return result\n",
        " "
      ],
      "execution_count": 22,
      "outputs": []
    },
    {
      "cell_type": "code",
      "metadata": {
        "id": "GZvjsEG0x3VF"
      },
      "source": [
        "#Question 2 Part 4\n",
        "#acts like a sigmoid function for a 1D array\n",
        "\n",
        "\n",
        "def sigmoid(input_list):\n",
        "    result = [(1/(1+math.exp(i))) for i in input_list]\n",
        "    return result"
      ],
      "execution_count": 24,
      "outputs": []
    },
    {
      "cell_type": "code",
      "metadata": {
        "id": "LBef09odx335"
      },
      "source": [
        "#Question 2 Part 5\n",
        "#takes a small character string and shifts all characters by 5 (handle boundary conditions) tsai>>yxfn\n",
        "\n",
        "def shifts(input_string):\n",
        "    chars = 'abcdefghijklmnopqrstuvwxyz'\n",
        "    newchars = 'fghijklmnopqrstuvwxyzabcde'\n",
        "    replace = dict(zip(chars,newchars))\n",
        "    result = ''.join([replace[i] for i in input_string])\n",
        "    return result"
      ],
      "execution_count": 28,
      "outputs": []
    },
    {
      "cell_type": "code",
      "metadata": {
        "id": "vUUqmDwJx3zi"
      },
      "source": [
        "#Question 3\n",
        "\n",
        "#A list comprehension expression that takes a ~200 word paragraph (write your own paragraph to check), and checks whether it has any of the swear words mentioned in https://github.com/RobertJGabriel/Google-profanity-words/blob/master/list.txt\n",
        "\n",
        "def swear(string):\n",
        "\n",
        "    words = pd.read_csv('list.txt') #uploaed list.txt in session storage\n",
        "    a_words = [i for i in words]\n",
        "   \n",
        "    string = string.split(' ')\n",
        "    string1 = [word for word in string if word in a_words]\n",
        "    if len(string1)>0:\n",
        "        return 'Profanity is exists in string'\n",
        "    else:\n",
        "        return 'No Profanity found'\n",
        "     "
      ],
      "execution_count": 72,
      "outputs": []
    },
    {
      "cell_type": "code",
      "metadata": {
        "id": "6WIKZ4wOx3wJ"
      },
      "source": [
        "#Question 4 Part 1\n",
        "\n",
        "#Using reduce functions add only even numbers in a list\n",
        "from functools import reduce\n",
        "def onlyeven(input_list): \n",
        "    return reduce(lambda x,y: x+y if y%2==0 else x+0,input_list,0)\n"
      ],
      "execution_count": 35,
      "outputs": []
    },
    {
      "cell_type": "code",
      "metadata": {
        "id": "Mk_9bdxRx3rr"
      },
      "source": [
        "#Question 4 Part 2\n",
        "#Using reduce functions  find the biggest character in a string (printable ascii characters)\n",
        "\n",
        "def biggestchar(input):\n",
        "    return reduce(lambda x,y: x if ord(x)>ord(y) else y,input)"
      ],
      "execution_count": 38,
      "outputs": []
    },
    {
      "cell_type": "code",
      "metadata": {
        "id": "rtDm75MGx3ng"
      },
      "source": [
        "#Question 4 Part 3\n",
        "#Using reduce functions adds every 3rd number in a list\n",
        "\n",
        "def add_third(input_list):\n",
        "    return reduce(lambda x,y: x+input_list[y] if (y+1)%3==0 else x+0,list(range(len(input_list))),0)"
      ],
      "execution_count": 39,
      "outputs": []
    },
    {
      "cell_type": "code",
      "metadata": {
        "id": "K4BJBiDdx3jI"
      },
      "source": [
        "#Question 5\n",
        "\n",
        "#Using randint, random.choice and list comprehensions, write an expression that generates 15 random KADDAADDDD number plates, where KA is fixed, D stands for a digit, and A stands for Capital alphabets. 10<<DD<<99 & 1000<<DDDD<<9999\n",
        "\n",
        "def generate():\n",
        "    chars = dict(zip(list(range(1,27)),'abcdefghijklmnopqrstuvwxyz'.upper()))\n",
        "    output = ['KA'+\n",
        "              str(random.randint(10,99))+\n",
        "              chars[random.randint(1,26)]+chars[random.randint(1,26)]+\n",
        "              str(random.randint(1000,9999)) for _ in range(15)]\n",
        "    return output\n",
        "   "
      ],
      "execution_count": 45,
      "outputs": []
    },
    {
      "cell_type": "code",
      "metadata": {
        "id": "0uQsK67Ix3dC"
      },
      "source": [
        "#Question 6\n",
        "\n",
        "#Write the above again from scratch where KA can be changed to DL, and 1000/9999 ranges can be provided\n",
        "\n",
        "def generate_again(state,min ,max):\n",
        "    chars = dict(zip(list(range(1,27)),'abcdefghijklmnopqrstuvwxyz'.upper()))\n",
        "    result = [state+\n",
        "              str(random.randint(10,99))+\n",
        "              chars[random.randint(1,26)]+chars[random.randint(1,26)]+\n",
        "              str(random.randint(min,max)) for _ in range(15)]\n",
        "    return result\n",
        "\n"
      ],
      "execution_count": 51,
      "outputs": []
    }
  ]
}